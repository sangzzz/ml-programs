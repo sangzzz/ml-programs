{
  "nbformat": 4,
  "nbformat_minor": 0,
  "metadata": {
    "colab": {
      "name": "ML Steps Programs.ipynb",
      "provenance": [],
      "collapsed_sections": []
    },
    "kernelspec": {
      "name": "python3",
      "display_name": "Python 3"
    },
    "language_info": {
      "name": "python"
    }
  },
  "cells": [
    {
      "cell_type": "code",
      "metadata": {
        "id": "N54g-v9jVhYx"
      },
      "source": [
        "import numpy as np\n",
        "import pandas as pd\n",
        "import pprint\n",
        "eps = np.finfo(float).eps\n",
        "from numpy import log2 as log\n",
        "import matplotlib.pyplot as plt \n",
        "import math\n",
        "from collections import defaultdict"
      ],
      "execution_count": null,
      "outputs": []
    },
    {
      "cell_type": "markdown",
      "metadata": {
        "id": "-o4wyP-nVso2"
      },
      "source": [
        "## Categorical Input Data"
      ]
    },
    {
      "cell_type": "code",
      "metadata": {
        "colab": {
          "base_uri": "https://localhost:8080/"
        },
        "id": "hztB_zTvVxQL",
        "outputId": "48562315-05c2-49e6-b581-438ab0f75ecf"
      },
      "source": [
        "n = int(input('Number of input features: '))\n",
        "input_features = {}\n",
        "for i in range(n):\n",
        "  input_features[i] = input('Enter {}th feature: '.format(i+1)).split(',')\n",
        "  print()\n",
        "input_features"
      ],
      "execution_count": null,
      "outputs": [
        {
          "output_type": "stream",
          "text": [
            "Number of input features: 4\n",
            "Enter 1th feature: y,n,n,y,n,n,y,n,n,n\n",
            "\n",
            "Enter 2th feature: s,m,s,m,d,m,d,s,m,s\n",
            "\n",
            "Enter 3th feature: g,g,l,g,g,l,g,g,g,g\n",
            "\n",
            "Enter 4th feature: n,n,n,n,y,n,n,y,n,y\n",
            "\n"
          ],
          "name": "stdout"
        },
        {
          "output_type": "execute_result",
          "data": {
            "text/plain": [
              "{0: ['y', 'n', 'n', 'y', 'n', 'n', 'y', 'n', 'n', 'n'],\n",
              " 1: ['s', 'm', 's', 'm', 'd', 'm', 'd', 's', 'm', 's'],\n",
              " 2: ['g', 'g', 'l', 'g', 'g', 'l', 'g', 'g', 'g', 'g'],\n",
              " 3: ['n', 'n', 'n', 'n', 'y', 'n', 'n', 'y', 'n', 'y']}"
            ]
          },
          "metadata": {
            "tags": []
          },
          "execution_count": 101
        }
      ]
    },
    {
      "cell_type": "markdown",
      "metadata": {
        "id": "CXFe5sZu38_9"
      },
      "source": [
        "## Continuous Input Data"
      ]
    },
    {
      "cell_type": "code",
      "metadata": {
        "colab": {
          "base_uri": "https://localhost:8080/"
        },
        "id": "f3xY9ah43_jF",
        "outputId": "1a94f431-7492-47b2-e9fd-f0841484fdbb"
      },
      "source": [
        "n = int(input('Number of input features: '))\n",
        "input_features = {}\n",
        "for i in range(n):\n",
        "  input_features[i] = list(map(float, input('Enter {}th feature: '.format(i+1)).split(',')))\n",
        "  print()\n",
        "input_features"
      ],
      "execution_count": null,
      "outputs": [
        {
          "output_type": "stream",
          "text": [
            "Number of input features: 2\n",
            "Enter 1th feature: 2,3,5,7,8,9\n",
            "\n",
            "Enter 2th feature: 7,6,5,4,3,5\n",
            "\n"
          ],
          "name": "stdout"
        },
        {
          "output_type": "execute_result",
          "data": {
            "text/plain": [
              "{0: [2.0, 3.0, 5.0, 7.0, 8.0, 9.0], 1: [7.0, 6.0, 5.0, 4.0, 3.0, 5.0]}"
            ]
          },
          "metadata": {
            "tags": []
          },
          "execution_count": 22
        }
      ]
    },
    {
      "cell_type": "markdown",
      "metadata": {
        "id": "SOFtLGkj7XwD"
      },
      "source": [
        "## Mixed Data"
      ]
    },
    {
      "cell_type": "code",
      "metadata": {
        "id": "fMji3kzS7W9g"
      },
      "source": [
        "n = int(input('Number of input features: '))\n",
        "input_features = {}\n",
        "for i in range(n):\n",
        "  feature_type = input(\"Enter type of data [int/str/float]: \")\n",
        "  if feature_type == 'float':\n",
        "    input_features[i] = list(map(float, input('Enter {}th feature: '.format(i+1)).split(',')))\n",
        "  elif feature_type == 'int':\n",
        "    input_features[i] = list(map(int, input('Enter {}th feature: '.format(i+1)).split(',')))\n",
        "  else:\n",
        "    input_features[i] = input('Enter {}th feature: '.format(i+1)).split(',')\n",
        "  print()\n",
        "input_features"
      ],
      "execution_count": null,
      "outputs": []
    },
    {
      "cell_type": "code",
      "metadata": {
        "colab": {
          "base_uri": "https://localhost:8080/"
        },
        "id": "C9A6oL8OWjAB",
        "outputId": "a7ebe655-ecac-4149-9c67-1aa789c60802"
      },
      "source": [
        "feature_names = input(\"Enter feature names: \").split(',')"
      ],
      "execution_count": null,
      "outputs": [
        {
          "output_type": "stream",
          "text": [
            "Enter feature names: x1,x2\n"
          ],
          "name": "stdout"
        }
      ]
    },
    {
      "cell_type": "code",
      "metadata": {
        "id": "jhbxMvpfWwi6"
      },
      "source": [
        "for j, i in enumerate(feature_names):\n",
        "  input_features[i] = input_features[j]\n",
        "  del input_features[j]"
      ],
      "execution_count": null,
      "outputs": []
    },
    {
      "cell_type": "code",
      "metadata": {
        "id": "8x1T3AG0Y9Qc"
      },
      "source": [
        "data = pd.DataFrame(input_features)"
      ],
      "execution_count": null,
      "outputs": []
    },
    {
      "cell_type": "code",
      "metadata": {
        "colab": {
          "base_uri": "https://localhost:8080/",
          "height": 225
        },
        "id": "p2pqWj2lZI6C",
        "outputId": "7497cf7b-dd0a-41c7-b02d-16087667611c"
      },
      "source": [
        "data"
      ],
      "execution_count": null,
      "outputs": [
        {
          "output_type": "execute_result",
          "data": {
            "text/html": [
              "<div>\n",
              "<style scoped>\n",
              "    .dataframe tbody tr th:only-of-type {\n",
              "        vertical-align: middle;\n",
              "    }\n",
              "\n",
              "    .dataframe tbody tr th {\n",
              "        vertical-align: top;\n",
              "    }\n",
              "\n",
              "    .dataframe thead th {\n",
              "        text-align: right;\n",
              "    }\n",
              "</style>\n",
              "<table border=\"1\" class=\"dataframe\">\n",
              "  <thead>\n",
              "    <tr style=\"text-align: right;\">\n",
              "      <th></th>\n",
              "      <th>x1</th>\n",
              "      <th>x2</th>\n",
              "    </tr>\n",
              "  </thead>\n",
              "  <tbody>\n",
              "    <tr>\n",
              "      <th>0</th>\n",
              "      <td>2.0</td>\n",
              "      <td>7.0</td>\n",
              "    </tr>\n",
              "    <tr>\n",
              "      <th>1</th>\n",
              "      <td>3.0</td>\n",
              "      <td>6.0</td>\n",
              "    </tr>\n",
              "    <tr>\n",
              "      <th>2</th>\n",
              "      <td>5.0</td>\n",
              "      <td>5.0</td>\n",
              "    </tr>\n",
              "    <tr>\n",
              "      <th>3</th>\n",
              "      <td>7.0</td>\n",
              "      <td>4.0</td>\n",
              "    </tr>\n",
              "    <tr>\n",
              "      <th>4</th>\n",
              "      <td>8.0</td>\n",
              "      <td>3.0</td>\n",
              "    </tr>\n",
              "    <tr>\n",
              "      <th>5</th>\n",
              "      <td>9.0</td>\n",
              "      <td>5.0</td>\n",
              "    </tr>\n",
              "  </tbody>\n",
              "</table>\n",
              "</div>"
            ],
            "text/plain": [
              "    x1   x2\n",
              "0  2.0  7.0\n",
              "1  3.0  6.0\n",
              "2  5.0  5.0\n",
              "3  7.0  4.0\n",
              "4  8.0  3.0\n",
              "5  9.0  5.0"
            ]
          },
          "metadata": {
            "tags": []
          },
          "execution_count": 26
        }
      ]
    },
    {
      "cell_type": "markdown",
      "metadata": {
        "id": "skTIbfsgZMhv"
      },
      "source": [
        "## ID3"
      ]
    },
    {
      "cell_type": "code",
      "metadata": {
        "colab": {
          "base_uri": "https://localhost:8080/"
        },
        "id": "l5OEetV7ZXH0",
        "outputId": "54c7e64b-41bf-4f4a-c50a-db3ef59fbd37"
      },
      "source": [
        "# Entropy of dataset\n",
        "entropy_node = 0  \n",
        "values = data.label.unique() \n",
        "for value in values:\n",
        "  fraction = data.label.value_counts()[value]/len(data.label)  \n",
        "  entropy_node += -fraction*np.log2(fraction)\n",
        "print(\"Entropy = SIGMA ( -pi * log2(pi) )\")\n",
        "entropy_node"
      ],
      "execution_count": null,
      "outputs": [
        {
          "output_type": "stream",
          "text": [
            "Entropy = SIGMA ( -pi * log2(pi) )\n"
          ],
          "name": "stdout"
        },
        {
          "output_type": "execute_result",
          "data": {
            "text/plain": [
              "0.9402859586706309"
            ]
          },
          "metadata": {
            "tags": []
          },
          "execution_count": 22
        }
      ]
    },
    {
      "cell_type": "code",
      "metadata": {
        "colab": {
          "base_uri": "https://localhost:8080/"
        },
        "id": "ANCNGj-BZaFz",
        "outputId": "c2a31e9e-7749-4699-ef69-56bedb54d917"
      },
      "source": [
        "def ent(df,attribute):\n",
        "  target_variables = df.label.unique()\n",
        "  variables = df[attribute].unique()\n",
        "  entropy_attribute = 0\n",
        "  for variable in variables:\n",
        "    entropy_each_feature = 0\n",
        "    for target_variable in target_variables:\n",
        "      print()\n",
        "      num = len(df[attribute][df[attribute]==variable][df.label ==target_variable]) \n",
        "      den = len(df[attribute][df[attribute]==variable])\n",
        "      print(\"p_{}_{} = {}/{}\".format(variable, target_variable, num, den), end=' ')\n",
        "      fraction = num/(den) \n",
        "      if fraction == 0:\n",
        "        print(0)\n",
        "        continue\n",
        "      entropy_each_feature += -fraction*log(fraction) \n",
        "      print(\" + ( -pi * log2(pi) ) = {}\".format(entropy_each_feature))\n",
        "    fraction2 = den/len(df)\n",
        "    entropy_attribute += -fraction2*entropy_each_feature  \n",
        "  return(abs(entropy_attribute))\n",
        "entropies = {}\n",
        "for feature in feature_names[:-1]:\n",
        "  entropies[feature] = ent(data, feature)\n",
        "print()\n",
        "entropies"
      ],
      "execution_count": null,
      "outputs": [
        {
          "output_type": "stream",
          "text": [
            "\n",
            "p_overcast_yes = 4/4  + ( -pi * log2(pi) ) = 0.0\n",
            "\n",
            "p_overcast_no = 0/4 0\n",
            "\n",
            "p_rainy_yes = 3/5  + ( -pi * log2(pi) ) = 0.44217935649972373\n",
            "\n",
            "p_rainy_no = 2/5  + ( -pi * log2(pi) ) = 0.9709505944546686\n",
            "\n",
            "p_sunny_yes = 2/5  + ( -pi * log2(pi) ) = 0.5287712379549449\n",
            "\n",
            "p_sunny_no = 3/5  + ( -pi * log2(pi) ) = 0.9709505944546686\n",
            "\n",
            "p_hot_yes = 2/4  + ( -pi * log2(pi) ) = 0.5\n",
            "\n",
            "p_hot_no = 2/4  + ( -pi * log2(pi) ) = 1.0\n",
            "\n",
            "p_cool_yes = 3/4  + ( -pi * log2(pi) ) = 0.31127812445913283\n",
            "\n",
            "p_cool_no = 1/4  + ( -pi * log2(pi) ) = 0.8112781244591328\n",
            "\n",
            "p_mild_yes = 4/6  + ( -pi * log2(pi) ) = 0.38997500048077083\n",
            "\n",
            "p_mild_no = 2/6  + ( -pi * log2(pi) ) = 0.9182958340544896\n",
            "\n",
            "p_high_yes = 3/7  + ( -pi * log2(pi) ) = 0.5238824662870492\n",
            "\n",
            "p_high_no = 4/7  + ( -pi * log2(pi) ) = 0.9852281360342515\n",
            "\n",
            "p_normal_yes = 6/7  + ( -pi * log2(pi) ) = 0.19062207543124116\n",
            "\n",
            "p_normal_no = 1/7  + ( -pi * log2(pi) ) = 0.5916727785823275\n",
            "\n",
            "p_FALSE_yes = 6/8  + ( -pi * log2(pi) ) = 0.31127812445913283\n",
            "\n",
            "p_FALSE_no = 2/8  + ( -pi * log2(pi) ) = 0.8112781244591328\n",
            "\n",
            "p_TRUE_yes = 3/6  + ( -pi * log2(pi) ) = 0.5\n",
            "\n",
            "p_TRUE_no = 3/6  + ( -pi * log2(pi) ) = 1.0\n",
            "\n"
          ],
          "name": "stdout"
        },
        {
          "output_type": "execute_result",
          "data": {
            "text/plain": [
              "{'humidity': 0.7884504573082896,\n",
              " 'outlook': 0.6935361388961918,\n",
              " 'temp': 0.9110633930116763,\n",
              " 'windy': 0.8921589282623617}"
            ]
          },
          "metadata": {
            "tags": []
          },
          "execution_count": 50
        }
      ]
    },
    {
      "cell_type": "code",
      "metadata": {
        "colab": {
          "base_uri": "https://localhost:8080/"
        },
        "id": "n4uqCNzXbkjz",
        "outputId": "8fadfba1-8bc6-4f1c-accc-7742c110dcae"
      },
      "source": [
        "def ig(e_dataset,e_attr):\n",
        "  return(e_dataset-e_attr)\n",
        "info_gain = {k:ig(entropy_node,entropies[k]) for k in entropies}\n",
        "info_gain"
      ],
      "execution_count": null,
      "outputs": [
        {
          "output_type": "execute_result",
          "data": {
            "text/plain": [
              "{'humidity': 0.15183550136234136,\n",
              " 'outlook': 0.2467498197744391,\n",
              " 'temp': 0.029222565658954647,\n",
              " 'windy': 0.04812703040826927}"
            ]
          },
          "metadata": {
            "tags": []
          },
          "execution_count": 51
        }
      ]
    },
    {
      "cell_type": "code",
      "metadata": {
        "cellView": "form",
        "id": "k-129pmEi8bw"
      },
      "source": [
        "#@title ID3 Decision Tree\n",
        "def find_entropy(df):\n",
        "    Class = df.keys()[-1]   #To make the code generic, changing target variable class name\n",
        "    entropy = 0\n",
        "    values = df[Class].unique()\n",
        "    for value in values:\n",
        "        fraction = df[Class].value_counts()[value]/len(df[Class])\n",
        "        entropy += -fraction*np.log2(fraction)\n",
        "    return entropy\n",
        "  \n",
        "  \n",
        "def find_entropy_attribute(df,attribute):\n",
        "  Class = df.keys()[-1]   #To make the code generic, changing target variable class name\n",
        "  target_variables = df[Class].unique()  #This gives all 'Yes' and 'No'\n",
        "  variables = df[attribute].unique()    #This gives different features in that attribute (like 'Hot','Cold' in Temperature)\n",
        "  entropy2 = 0\n",
        "  for variable in variables:\n",
        "      entropy = 0\n",
        "      for target_variable in target_variables:\n",
        "          num = len(df[attribute][df[attribute]==variable][df[Class] ==target_variable])\n",
        "          den = len(df[attribute][df[attribute]==variable])\n",
        "          fraction = num/(den+eps)\n",
        "          entropy += -fraction*log(fraction+eps)\n",
        "      fraction2 = den/len(df)\n",
        "      entropy2 += -fraction2*entropy\n",
        "  return abs(entropy2)\n",
        "\n",
        "\n",
        "def find_winner(df):\n",
        "    Entropy_att = []\n",
        "    IG = []\n",
        "    for key in df.keys()[:-1]:\n",
        "#         Entropy_att.append(find_entropy_attribute(df,key))\n",
        "        IG.append(find_entropy(df)-find_entropy_attribute(df,key))\n",
        "    return df.keys()[:-1][np.argmax(IG)]\n",
        "  \n",
        "  \n",
        "def get_subtable(df, node,value):\n",
        "  return df[df[node] == value].reset_index(drop=True)\n",
        "\n",
        "\n",
        "def buildTree(df,tree=None): \n",
        "    Class = df.keys()[-1]   #To make the code generic, changing target variable class name\n",
        "    \n",
        "    #Here we build our decision tree\n",
        "\n",
        "    #Get attribute with maximum information gain\n",
        "    node = find_winner(df)\n",
        "    \n",
        "    #Get distinct value of that attribute e.g Salary is node and Low,Med and High are values\n",
        "    attValue = np.unique(df[node])\n",
        "    \n",
        "    #Create an empty dictionary to create tree    \n",
        "    if tree is None:                    \n",
        "        tree={}\n",
        "        tree[node] = {}\n",
        "    \n",
        "   #We make loop to construct a tree by calling this function recursively. \n",
        "    #In this we check if the subset is pure and stops if it is pure. \n",
        "\n",
        "    for value in attValue:\n",
        "        \n",
        "        subtable = get_subtable(df,node,value)\n",
        "        clValue,counts = np.unique(subtable['label'],return_counts=True)                        \n",
        "        \n",
        "        if len(counts)==1:#Checking purity of subset\n",
        "            tree[node][value] = clValue[0]                                                    \n",
        "        else:        \n",
        "            tree[node][value] = buildTree(subtable) #Calling the function recursively \n",
        "                   \n",
        "    return tree"
      ],
      "execution_count": null,
      "outputs": []
    },
    {
      "cell_type": "code",
      "metadata": {
        "colab": {
          "base_uri": "https://localhost:8080/"
        },
        "id": "CI-pqEmTjXsq",
        "outputId": "095d935f-84bb-4fe2-ac01-b7d5b9cba04a"
      },
      "source": [
        "t = buildTree(data)\n",
        "pprint.pprint(t)"
      ],
      "execution_count": null,
      "outputs": [
        {
          "output_type": "stream",
          "text": [
            "{'outlook': {'overcast': 'yes',\n",
            "             'rainy': {'windy': {'FALSE': 'yes', 'TRUE': 'no'}},\n",
            "             'sunny': {'humidity': {'high': 'no', 'normal': 'yes'}}}}\n"
          ],
          "name": "stdout"
        }
      ]
    },
    {
      "cell_type": "code",
      "metadata": {
        "cellView": "form",
        "id": "Brg4MHqcmnZP"
      },
      "source": [
        "#@title Bayes Classifier\n",
        "def accuracy_score(y_true, y_pred):\n",
        "  return float(sum(y_pred == y_true))/float(len(y_true)) * 100 \n",
        "def pre_processing(df):\n",
        "  X = df.drop([df.columns[-1]], axis = 1)\n",
        "  y = df[df.columns[-1]]\n",
        "  return X, y\n",
        "class  NaiveBayes:\n",
        "\tdef __init__(self):\n",
        "\t\tself.features = list\n",
        "\t\tself.likelihoods = {}\n",
        "\t\tself.class_priors = {}\n",
        "\t\tself.pred_priors = {}\n",
        "\t\tself.X_train = np.array\n",
        "\t\tself.y_train = np.array\n",
        "\t\tself.train_size = int\n",
        "\t\tself.num_feats = int\n",
        "\tdef fit(self, X, y):\n",
        "\t\tself.features = list(X.columns)\n",
        "\t\tself.X_train = X\n",
        "\t\tself.y_train = y\n",
        "\t\tself.train_size = X.shape[0]\n",
        "\t\tself.num_feats = X.shape[1]\n",
        "\t\tfor feature in self.features:\n",
        "\t\t\tself.likelihoods[feature] = {}\n",
        "\t\t\tself.pred_priors[feature] = {}\n",
        "\t\t\tfor feat_val in np.unique(self.X_train[feature]):\n",
        "\t\t\t\tself.pred_priors[feature].update({feat_val: 0})\n",
        "\t\t\t\tfor outcome in np.unique(self.y_train):\n",
        "\t\t\t\t\tself.likelihoods[feature].update({feat_val+'_'+outcome:0})\n",
        "\t\t\t\t\tself.class_priors.update({outcome: 0})\n",
        "\t\tprint(\"\\nCLASS PRIORS\");self._calc_class_prior();print(self.class_priors)\n",
        "\t\tprint(\"\\n\\nLIKELIHOODS\");self._calc_likelihoods();print(self.likelihoods)\n",
        "\t\tprint(\"\\n\\nPREDICTOR PRIORS\");self._calc_predictor_prior();print(self.pred_priors)\n",
        "\tdef _calc_class_prior(self):\n",
        "\t\tfor outcome in np.unique(self.y_train):\n",
        "\t\t\toutcome_count = sum(self.y_train == outcome)\n",
        "\t\t\tself.class_priors[outcome] = outcome_count / self.train_size;print(outcome, outcome_count, self.train_size)\n",
        "\tdef _calc_likelihoods(self):\n",
        "\t\tfor feature in self.features:\n",
        "\t\t\tfor outcome in np.unique(self.y_train):\n",
        "\t\t\t\toutcome_count = sum(self.y_train == outcome)\n",
        "\t\t\t\tfeat_likelihood = self.X_train[feature][self.y_train[self.y_train == outcome].index.values.tolist()].value_counts().to_dict()\n",
        "\t\t\t\tfor feat_val, count in feat_likelihood.items():\n",
        "\t\t\t\t\tself.likelihoods[feature][feat_val + '_' + outcome] = count/outcome_count;print(outcome, outcome_count, feat_likelihood, feat_val, count, count/outcome_count)\n",
        "\tdef _calc_predictor_prior(self):\n",
        "\t\tfor feature in self.features:\n",
        "\t\t\tfeat_vals = self.X_train[feature].value_counts().to_dict()\n",
        "\t\t\tfor feat_val, count in feat_vals.items():\n",
        "\t\t\t\tself.pred_priors[feature][feat_val] = count/self.train_size;print(feature, feat_vals, feat_val, count, count/self.train_size)\n",
        "\tdef predict(self, X):\n",
        "\t\tresults = []\n",
        "\t\tX = np.array(X)\n",
        "\t\tfor query in X:\n",
        "\t\t\tprobs_outcome = {}\n",
        "\t\t\tfor outcome in np.unique(self.y_train):\n",
        "\t\t\t\tprior = self.class_priors[outcome]\n",
        "\t\t\t\tlikelihood = 1\n",
        "\t\t\t\tevidence = 1\n",
        "\t\t\t\tfor feat, feat_val in zip(self.features, query):\n",
        "\t\t\t\t\tlikelihood *= self.likelihoods[feat][feat_val + '_' + outcome]\n",
        "\t\t\t\t\tevidence *= self.pred_priors[feat][feat_val]\n",
        "\t\t\t\tposterior = (likelihood * prior) / (evidence)\n",
        "\t\t\t\tprobs_outcome[outcome] = posterior\n",
        "\t\t\tresult = max(probs_outcome, key = lambda x: probs_outcome[x])\n",
        "\t\t\tresults.append(result)\n",
        "\t\tprint(\"\\n\",probs_outcome);return np.array(results)"
      ],
      "execution_count": null,
      "outputs": []
    },
    {
      "cell_type": "code",
      "metadata": {
        "colab": {
          "base_uri": "https://localhost:8080/",
          "height": 69
        },
        "id": "qZVln8LRxZqU",
        "outputId": "15d893b8-0362-450d-ff3c-804ee0763ea8"
      },
      "source": [
        "\"\"\"\n",
        "\t\tBayes Theorem:\n",
        "\t\t\t\t\t\t\t\t\t\t            Likelihood * Class prior probability\n",
        "\t\t\t\tPosterior Probability = -------------------------------------\n",
        "\t\t\t\t\t\t\t\t\t\t\t            Predictor prior probability\n",
        "\t\t\t\t\n",
        "\t\t\t\t\t\t\t  \t\t\t      P(x|c) * p(c)\n",
        "\t\t\t\t\t\t\t   P(c|x) = ------------------ \n",
        "\t\t\t\t\t\t\t\t\t\t\t          P(x)\n",
        "\t\"\"\"\n"
      ],
      "execution_count": null,
      "outputs": [
        {
          "output_type": "execute_result",
          "data": {
            "application/vnd.google.colaboratory.intrinsic+json": {
              "type": "string"
            },
            "text/plain": [
              "'\\n\\t\\tBayes Theorem:\\n\\t\\t\\t\\t\\t\\t\\t\\t\\t\\t            Likelihood * Class prior probability\\n\\t\\t\\t\\tPosterior Probability = -------------------------------------\\n\\t\\t\\t\\t\\t\\t\\t\\t\\t\\t\\t            Predictor prior probability\\n\\t\\t\\t\\t\\n\\t\\t\\t\\t\\t\\t\\t  \\t\\t\\t      P(x|c) * p(c)\\n\\t\\t\\t\\t\\t\\t\\t   P(c|x) = ------------------ \\n\\t\\t\\t\\t\\t\\t\\t\\t\\t\\t\\t          P(x)\\n\\t'"
            ]
          },
          "metadata": {
            "tags": []
          },
          "execution_count": 107
        }
      ]
    },
    {
      "cell_type": "code",
      "metadata": {
        "colab": {
          "base_uri": "https://localhost:8080/"
        },
        "id": "bJStOsu9oQBG",
        "outputId": "cb79eff7-735a-4024-b70a-3760ec65843c"
      },
      "source": [
        "X,y  = pre_processing(data)\n",
        "nb_clf = NaiveBayes()\n",
        "nb_clf.fit(X, y)\n",
        "#Query 1:\n",
        "query = np.array([['y','m','l']])\n",
        "print(\"\\nQuery 1:- {} ---> {}\".format(query, nb_clf.predict(query)))"
      ],
      "execution_count": null,
      "outputs": [
        {
          "output_type": "stream",
          "text": [
            "\n",
            "CLASS PRIORS\n",
            "n 7 10\n",
            "y 3 10\n",
            "{'n': 0.7, 'y': 0.3}\n",
            "\n",
            "\n",
            "LIKELIHOODS\n",
            "n 7 {'n': 4, 'y': 3} n 4 0.5714285714285714\n",
            "n 7 {'n': 4, 'y': 3} y 3 0.42857142857142855\n",
            "y 3 {'n': 3} n 3 1.0\n",
            "n 7 {'m': 4, 's': 2, 'd': 1} m 4 0.5714285714285714\n",
            "n 7 {'m': 4, 's': 2, 'd': 1} s 2 0.2857142857142857\n",
            "n 7 {'m': 4, 's': 2, 'd': 1} d 1 0.14285714285714285\n",
            "y 3 {'s': 2, 'd': 1} s 2 0.6666666666666666\n",
            "y 3 {'s': 2, 'd': 1} d 1 0.3333333333333333\n",
            "n 7 {'g': 5, 'l': 2} g 5 0.7142857142857143\n",
            "n 7 {'g': 5, 'l': 2} l 2 0.2857142857142857\n",
            "y 3 {'g': 3} g 3 1.0\n",
            "{'refund': {'n_n': 0.5714285714285714, 'n_y': 1.0, 'y_n': 0.42857142857142855, 'y_y': 0}, 'marital': {'d_n': 0.14285714285714285, 'd_y': 0.3333333333333333, 'm_n': 0.5714285714285714, 'm_y': 0, 's_n': 0.2857142857142857, 's_y': 0.6666666666666666}, 'taxable': {'g_n': 0.7142857142857143, 'g_y': 1.0, 'l_n': 0.2857142857142857, 'l_y': 0}}\n",
            "\n",
            "\n",
            "PREDICTOR PRIORS\n",
            "refund {'n': 7, 'y': 3} n 7 0.7\n",
            "refund {'n': 7, 'y': 3} y 3 0.3\n",
            "marital {'m': 4, 's': 4, 'd': 2} m 4 0.4\n",
            "marital {'m': 4, 's': 4, 'd': 2} s 4 0.4\n",
            "marital {'m': 4, 's': 4, 'd': 2} d 2 0.2\n",
            "taxable {'g': 8, 'l': 2} g 8 0.8\n",
            "taxable {'g': 8, 'l': 2} l 2 0.2\n",
            "{'refund': {'n': 0.7, 'y': 0.3}, 'marital': {'d': 0.2, 'm': 0.4, 's': 0.4}, 'taxable': {'g': 0.8, 'l': 0.2}}\n",
            "\n",
            " {'n': 2.040816326530612, 'y': 0.0}\n",
            "\n",
            "Query 1:- [['y' 'm' 'l']] ---> ['n']\n"
          ],
          "name": "stdout"
        }
      ]
    },
    {
      "cell_type": "code",
      "metadata": {
        "id": "cEQTcLaJ3ksQ",
        "cellView": "form"
      },
      "source": [
        "#@title KNN\n",
        "def EuclideanDistance(row, point):\n",
        "  distance = 0.0\n",
        "  for i in range(len(point)):\n",
        "    distance += (row[i] - point[i]) ** 2\n",
        "  return distance**0.5\n",
        "\n",
        "def find_k_minimums(k, dataset):\n",
        "  distances = []\n",
        "  for index, row in dataset.iterrows():\n",
        "    distances.append(row['distance'])\n",
        "  min_indices = []\n",
        "  while len(min_indices)<k:\n",
        "    minDist = float('inf')\n",
        "    minIndex = -1\n",
        "    for i in range(len(distances)):\n",
        "      if i not in min_indices and distances[i]<minDist:\n",
        "        minDist = distances[i]\n",
        "        minIndex = i\n",
        "    min_indices.append(minIndex)\n",
        "  return min_indices\n",
        "\n",
        "def run_KNN(k, data, point):\n",
        "  distanceList = []\n",
        "  for rowIndex in range(len(data)):\n",
        "    rowItems = []\n",
        "    # print(row)\n",
        "    # for each in feature_names:\n",
        "    #   rowItems.append(row.each)\n",
        "    distanceList.append(EuclideanDistance(list(data.iloc[rowIndex]), point))\n",
        "  data['distance'] = distanceList\n",
        "  minIndices = find_k_minimums(k, data)\n",
        "  print(data)\n",
        "  print(\"\\nMin Indices: {}\".format(minIndices))\n",
        "  print(\"\\nMin Tuples: \\n{}\".format(data.iloc[minIndices]))"
      ],
      "execution_count": null,
      "outputs": []
    },
    {
      "cell_type": "code",
      "metadata": {
        "colab": {
          "base_uri": "https://localhost:8080/"
        },
        "id": "mkAG0Jtl3oXs",
        "outputId": "bdbc295c-0704-4cf6-e8c6-afe91a34626f"
      },
      "source": [
        "run_KNN(3,data,(15.2,33.1))"
      ],
      "execution_count": null,
      "outputs": [
        {
          "output_type": "stream",
          "text": [
            "       x1    x2  label   distance\n",
            "0   11.35  23.0    0.0  10.808908\n",
            "1   11.59  22.3    0.0  11.387366\n",
            "2   12.19  24.5    0.0   9.111537\n",
            "3   13.23  26.4    0.0   6.983617\n",
            "4   13.51  30.2    0.0   3.356501\n",
            "5   13.68  32.0    0.0   1.876273\n",
            "6   14.78  33.1    0.0   0.420000\n",
            "7   15.11  33.0    0.0   0.134536\n",
            "8   15.55  25.2    0.0   7.907749\n",
            "9   11.85  39.9    1.0   7.580402\n",
            "10  12.09  39.5    1.0   7.115624\n",
            "11  12.69  37.8    1.0   5.328236\n",
            "12  13.73  38.2    1.0   5.307627\n",
            "13  14.01  37.8    1.0   4.848309\n",
            "14  14.18  36.5    1.0   3.549704\n",
            "15  15.28  36.0    1.0   2.901103\n",
            "16  15.61  37.1    1.0   4.020958\n",
            "17  16.05  33.1    1.0   0.850000\n",
            "\n",
            "Min Indices: [7, 6, 17]\n",
            "\n",
            "Min Tuples: \n",
            "       x1    x2  label  distance\n",
            "7   15.11  33.0    0.0  0.134536\n",
            "6   14.78  33.1    0.0  0.420000\n",
            "17  16.05  33.1    1.0  0.850000\n"
          ],
          "name": "stdout"
        }
      ]
    },
    {
      "cell_type": "code",
      "metadata": {
        "cellView": "form",
        "id": "Akr06PQ_B7qe"
      },
      "source": [
        "#@title Confusion Matrix Evaluation\n",
        "\n",
        "def input_confusion_matrix(n=2):\n",
        "  matrix = []\n",
        "  for i in range(n):\n",
        "    row = list(map(int, input(\"Row{}: \".format(i+1)).split(',')))\n",
        "    matrix.append(row)\n",
        "  return matrix\n",
        "\n",
        "def get_performance_measures():\n",
        "  matrix = input_confusion_matrix()\n",
        "  TP = matrix[0][0]\n",
        "  FN = matrix[0][1]\n",
        "  FP = matrix[1][0]\n",
        "  TN = matrix[1][1]\n",
        "  TotN = TP + TN + FP + FN\n",
        "  print(\"True Positive: {}\".format(TP))\n",
        "  print(\"False Negative: {}\".format(FN))\n",
        "  print(\"False Positive: {}\".format(FP))\n",
        "  print(\"True Negative: {}\".format(TN))\n",
        "  print(\"Total Predictions: {}\".format(TotN))\n",
        "  print(\"\\nPredictive Accuracy\")\n",
        "  print(\"Predictive Accuracy = (TP + TN) / (TotN) = ({} + {}) / {} = {}\".format(TP, TN, TotN, (TP + TN)/TotN))\n",
        "  print(\"\\nError Rate\")\n",
        "  print(\"Error Rate = 1 - ((TP + TN) / (TotN)) = 1 - (({} + {}) / {}) = {}\".format(TP, TN, TotN, 1-(TP + TN)/TotN))\n",
        "  print(\"\\nTrue Positive Rate / Recall / Sensitivity / Hit Rate\")\n",
        "  print(\"TPR = TP / (TP + FN) = {} / ({} + {}) = {}\".format(TP, TP, FN, TP / (TP + FN)))\n",
        "  print(\"\\nFalse Positive Rate / False Alarm Rate\")\n",
        "  print(\"FPR = FP / (FP + TN) = {} / ({} + {}) = {}\".format(FP, FP, TN, FP / (FP + TN)))\n",
        "  print(\"\\nFalse Negative Rate\")\n",
        "  print(\"FNR = FN / (TP + FN) = {} / ({} + {}) = {}\".format(FN, TP, FN, FN / (TP + FN)))\n",
        "  print(\"\\nTrue Negative Rate / Specificity\")\n",
        "  print(\"TNR = TN / (FP + TN) = {} / ({} + {}) = {}\".format(TN, FP, TN, TN / (FP + TN)))\n",
        "  print(\"\\nPositive Predictive Value / Precision\")\n",
        "  print(\"PPV = TP / (TP + FP) = {} / ({} + {}) = {}\".format(TP, TP, FP, TP / (TP + FP)))\n",
        "  print(\"\\nF1 Score\")\n",
        "  print(\"F1 = 2TP / (2TP + FP + FN) = 2*{} / (2*{} + {} + {}) = {}\".format(TP, TP, FP, FN,(2 * TP / (2 * TP + FP + FN))))\n",
        "\n"
      ],
      "execution_count": null,
      "outputs": []
    },
    {
      "cell_type": "code",
      "metadata": {
        "colab": {
          "base_uri": "https://localhost:8080/"
        },
        "id": "_5vSgi9NPn6-",
        "outputId": "0e6388fb-afea-4252-cf15-2e9f09b40eb1"
      },
      "source": [
        "get_performance_measures()"
      ],
      "execution_count": null,
      "outputs": [
        {
          "output_type": "stream",
          "text": [
            "Row1: 52,18\n",
            "Row2: 21,123\n",
            "True Positive: 52\n",
            "False Negative: 18\n",
            "False Positive: 21\n",
            "True Negative: 123\n",
            "Total Predictions: 214\n",
            "\n",
            "Predictive Accuracy\n",
            "Predictive Accuracy = (TP + TN) / (TotN) = (52 + 123) / 214 = 0.8177570093457944\n",
            "\n",
            "Error Rate\n",
            "Error Rate = 1 - ((TP + TN) / (TotN)) = 1 - ((52 + 123) / 214) = 0.18224299065420557\n",
            "\n",
            "True Positive Rate / Recall / Sensitivity / Hit Rate\n",
            "TPR = TP / (TP + FN) = 52 / (52 + 18) = 0.7428571428571429\n",
            "\n",
            "False Positive Rate / False Alarm Rate\n",
            "FPR = FP / (FP + TN) = 21 / (21 + 123) = 0.14583333333333334\n",
            "\n",
            "False Negative Rate\n",
            "FNR = FN / (TP + FN) = 18 / (52 + 18) = 0.2571428571428571\n",
            "\n",
            "True Negative Rate / Specificity\n",
            "TNR = TN / (FP + TN) = 123 / (21 + 123) = 0.8541666666666666\n",
            "\n",
            "Positive Predictive Value / Precision\n",
            "PPV = TP / (TP + FP) = 52 / (52 + 21) = 0.7123287671232876\n",
            "\n",
            "F1 Score\n",
            "F1 = 2TP / (2TP + FP + FN) = 2*52 / (2*52 + 21 + 18) = 0.7272727272727273\n"
          ],
          "name": "stdout"
        }
      ]
    },
    {
      "cell_type": "markdown",
      "metadata": {
        "id": "RylJYSsnr41s"
      },
      "source": [
        "# Linear Regression, Logistic Regression"
      ]
    },
    {
      "cell_type": "code",
      "metadata": {
        "id": "L1BQ__Y0PtRy"
      },
      "source": [
        "x1 = np.array([60,47,65,57,42,33,47,33,45,53])\n",
        "x2 = np.array([49,45,61,47,29,17,23,14,33,41])\n",
        "x3 = np.array([75,75,81,68,64,60,44,48,69,68])\n",
        "x4 = np.array([4,1,6,4,9,5,9,6,11,2])\n",
        "# x5 = np.array([])\n",
        "# x6 = np.array([])\n",
        "# x7 = np.array([])\n",
        "y = np.array([0.46,0.16,0.1,0.01,0.06,0.05,0.02,0.05,0.02,0.15])\n",
        "\n",
        "x1bar = np.mean(x1)\n",
        "x2bar = np.mean(x2)\n",
        "x3bar = np.mean(x3)\n",
        "x4bar = np.mean(x4)\n",
        "# x5bar = np.sum(x5)/len(x5)\n",
        "# x6bar = np.sum(x6)/len(x6)\n",
        "# x7bar = np.sum(x7)/len(x7)\n",
        "ybar = np.mean(y)\n",
        "\n",
        "x1_x1bar = x1-x1bar\n",
        "x2_x2bar = x2-x2bar\n",
        "x3_x3bar = x3-x3bar\n",
        "x4_x4bar = x4-x4bar\n",
        "# x5_x5bar = x5-x5bar\n",
        "# x6_x6bar = x6-x6bar\n",
        "# x7_x7bar = x7-x7bar\n",
        "y_ybar = y-ybar\n",
        "\n",
        "x1_x1bar_y_ybar = x1_x1bar*y_ybar\n",
        "x2_x2bar_y_ybar = x2_x2bar*y_ybar\n",
        "x3_x3bar_y_ybar = x3_x3bar*y_ybar\n",
        "x4_x4bar_y_ybar = x4_x4bar*y_ybar\n",
        "# x5_x5bar_y_ybar = x5_x5bar*y_ybar\n",
        "# x6_x6bar_y_ybar = x6_x6bar*y_ybar\n",
        "# x7_x7bar_y_ybar = x7_x7bar*y_ybar\n",
        "\n",
        "x1_x1bar2 = x1_x1bar**2\n",
        "x2_x2bar2 = x2_x2bar**2\n",
        "x3_x3bar2 = x3_x3bar**2\n",
        "x4_x4bar2 = x4_x4bar**2\n",
        "# x5_x5bar2 = x5_x5bar**2\n",
        "# x6_x6bar2 = x6_x6bar**2\n",
        "# x7_x7bar2 = x7_x7bar**2\n",
        "\n",
        "w1 = np.sum(x1_x1bar_y_ybar) / np.sum(x1_x1bar2)\n",
        "w2 = np.sum(x2_x2bar_y_ybar) / np.sum(x2_x2bar2)\n",
        "w3 = np.sum(x3_x3bar_y_ybar) / np.sum(x3_x3bar2)\n",
        "w4 = np.sum(x4_x4bar_y_ybar) / np.sum(x4_x4bar2)\n",
        "# w5 = np.sum(x5_x5bar_y_ybar) / np.sum(x5_x5bar2)\n",
        "# w6 = np.sum(x6_x6bar_y_ybar) / np.sum(x6_x6bar2)\n",
        "# w7 = np.sum(x7_x7bar_y_ybar) / np.sum(x7_x7bar2)\n",
        "\n",
        "w0 = ybar - w1*x1bar - w2*x2bar - w3*x3bar - w4*x4bar # -w5*x5bar # -w6*x6bar # - w7*x7bar"
      ],
      "execution_count": null,
      "outputs": []
    },
    {
      "cell_type": "code",
      "metadata": {
        "colab": {
          "base_uri": "https://localhost:8080/",
          "height": 360
        },
        "id": "p6ParJP9jslq",
        "outputId": "654da5d6-ad69-4f10-8f32-5202157baf87"
      },
      "source": [
        "columns = np.array([\"x1\", \"x2\", \"x3\", \"x4\", \"y\", \"x1-x1bar\", \"x2-x2bar\", \"x3-x3bar\", \"x4-x4bar\", \"y-ybar\", \"x1-x1bar * y-ybar\", \"x2-x2bar * y-ybar\", \"x3-x3bar * y-ybar\", \"x4-x4bar * y-ybar\", \"x1-x1bar^2\", \"x2-x2bar^2\", \"x3-x3bar^2\", \"x4-x4bar^2\"])\n",
        "dataset = np.array([x1, x2, x3, x4, y, x1_x1bar, x2_x2bar, x3_x3bar, x4_x4bar, y_ybar, x1_x1bar_y_ybar, x2_x2bar_y_ybar, x3_x3bar_y_ybar, x4_x4bar_y_ybar, x1_x1bar2, x2_x2bar2, x3_x3bar2, x4_x4bar2])\n",
        "regression = pd.DataFrame(data=dataset.T, columns=columns)\n",
        "regression"
      ],
      "execution_count": null,
      "outputs": [
        {
          "output_type": "execute_result",
          "data": {
            "text/html": [
              "<div>\n",
              "<style scoped>\n",
              "    .dataframe tbody tr th:only-of-type {\n",
              "        vertical-align: middle;\n",
              "    }\n",
              "\n",
              "    .dataframe tbody tr th {\n",
              "        vertical-align: top;\n",
              "    }\n",
              "\n",
              "    .dataframe thead th {\n",
              "        text-align: right;\n",
              "    }\n",
              "</style>\n",
              "<table border=\"1\" class=\"dataframe\">\n",
              "  <thead>\n",
              "    <tr style=\"text-align: right;\">\n",
              "      <th></th>\n",
              "      <th>x1</th>\n",
              "      <th>x2</th>\n",
              "      <th>x3</th>\n",
              "      <th>x4</th>\n",
              "      <th>y</th>\n",
              "      <th>x1-x1bar</th>\n",
              "      <th>x2-x2bar</th>\n",
              "      <th>x3-x3bar</th>\n",
              "      <th>x4-x4bar</th>\n",
              "      <th>y-ybar</th>\n",
              "      <th>x1-x1bar * y-ybar</th>\n",
              "      <th>x2-x2bar * y-ybar</th>\n",
              "      <th>x3-x3bar * y-ybar</th>\n",
              "      <th>x4-x4bar * y-ybar</th>\n",
              "      <th>x1-x1bar^2</th>\n",
              "      <th>x2-x2bar^2</th>\n",
              "      <th>x3-x3bar^2</th>\n",
              "      <th>x4-x4bar^2</th>\n",
              "    </tr>\n",
              "  </thead>\n",
              "  <tbody>\n",
              "    <tr>\n",
              "      <th>0</th>\n",
              "      <td>60.0</td>\n",
              "      <td>49.0</td>\n",
              "      <td>75.0</td>\n",
              "      <td>4.0</td>\n",
              "      <td>0.46</td>\n",
              "      <td>11.8</td>\n",
              "      <td>13.1</td>\n",
              "      <td>9.8</td>\n",
              "      <td>-1.7</td>\n",
              "      <td>0.352</td>\n",
              "      <td>4.1536</td>\n",
              "      <td>4.6112</td>\n",
              "      <td>3.4496</td>\n",
              "      <td>-0.5984</td>\n",
              "      <td>139.24</td>\n",
              "      <td>171.61</td>\n",
              "      <td>96.04</td>\n",
              "      <td>2.89</td>\n",
              "    </tr>\n",
              "    <tr>\n",
              "      <th>1</th>\n",
              "      <td>47.0</td>\n",
              "      <td>45.0</td>\n",
              "      <td>75.0</td>\n",
              "      <td>1.0</td>\n",
              "      <td>0.16</td>\n",
              "      <td>-1.2</td>\n",
              "      <td>9.1</td>\n",
              "      <td>9.8</td>\n",
              "      <td>-4.7</td>\n",
              "      <td>0.052</td>\n",
              "      <td>-0.0624</td>\n",
              "      <td>0.4732</td>\n",
              "      <td>0.5096</td>\n",
              "      <td>-0.2444</td>\n",
              "      <td>1.44</td>\n",
              "      <td>82.81</td>\n",
              "      <td>96.04</td>\n",
              "      <td>22.09</td>\n",
              "    </tr>\n",
              "    <tr>\n",
              "      <th>2</th>\n",
              "      <td>65.0</td>\n",
              "      <td>61.0</td>\n",
              "      <td>81.0</td>\n",
              "      <td>6.0</td>\n",
              "      <td>0.10</td>\n",
              "      <td>16.8</td>\n",
              "      <td>25.1</td>\n",
              "      <td>15.8</td>\n",
              "      <td>0.3</td>\n",
              "      <td>-0.008</td>\n",
              "      <td>-0.1344</td>\n",
              "      <td>-0.2008</td>\n",
              "      <td>-0.1264</td>\n",
              "      <td>-0.0024</td>\n",
              "      <td>282.24</td>\n",
              "      <td>630.01</td>\n",
              "      <td>249.64</td>\n",
              "      <td>0.09</td>\n",
              "    </tr>\n",
              "    <tr>\n",
              "      <th>3</th>\n",
              "      <td>57.0</td>\n",
              "      <td>47.0</td>\n",
              "      <td>68.0</td>\n",
              "      <td>4.0</td>\n",
              "      <td>0.01</td>\n",
              "      <td>8.8</td>\n",
              "      <td>11.1</td>\n",
              "      <td>2.8</td>\n",
              "      <td>-1.7</td>\n",
              "      <td>-0.098</td>\n",
              "      <td>-0.8624</td>\n",
              "      <td>-1.0878</td>\n",
              "      <td>-0.2744</td>\n",
              "      <td>0.1666</td>\n",
              "      <td>77.44</td>\n",
              "      <td>123.21</td>\n",
              "      <td>7.84</td>\n",
              "      <td>2.89</td>\n",
              "    </tr>\n",
              "    <tr>\n",
              "      <th>4</th>\n",
              "      <td>42.0</td>\n",
              "      <td>29.0</td>\n",
              "      <td>64.0</td>\n",
              "      <td>9.0</td>\n",
              "      <td>0.06</td>\n",
              "      <td>-6.2</td>\n",
              "      <td>-6.9</td>\n",
              "      <td>-1.2</td>\n",
              "      <td>3.3</td>\n",
              "      <td>-0.048</td>\n",
              "      <td>0.2976</td>\n",
              "      <td>0.3312</td>\n",
              "      <td>0.0576</td>\n",
              "      <td>-0.1584</td>\n",
              "      <td>38.44</td>\n",
              "      <td>47.61</td>\n",
              "      <td>1.44</td>\n",
              "      <td>10.89</td>\n",
              "    </tr>\n",
              "    <tr>\n",
              "      <th>5</th>\n",
              "      <td>33.0</td>\n",
              "      <td>17.0</td>\n",
              "      <td>60.0</td>\n",
              "      <td>5.0</td>\n",
              "      <td>0.05</td>\n",
              "      <td>-15.2</td>\n",
              "      <td>-18.9</td>\n",
              "      <td>-5.2</td>\n",
              "      <td>-0.7</td>\n",
              "      <td>-0.058</td>\n",
              "      <td>0.8816</td>\n",
              "      <td>1.0962</td>\n",
              "      <td>0.3016</td>\n",
              "      <td>0.0406</td>\n",
              "      <td>231.04</td>\n",
              "      <td>357.21</td>\n",
              "      <td>27.04</td>\n",
              "      <td>0.49</td>\n",
              "    </tr>\n",
              "    <tr>\n",
              "      <th>6</th>\n",
              "      <td>47.0</td>\n",
              "      <td>23.0</td>\n",
              "      <td>44.0</td>\n",
              "      <td>9.0</td>\n",
              "      <td>0.02</td>\n",
              "      <td>-1.2</td>\n",
              "      <td>-12.9</td>\n",
              "      <td>-21.2</td>\n",
              "      <td>3.3</td>\n",
              "      <td>-0.088</td>\n",
              "      <td>0.1056</td>\n",
              "      <td>1.1352</td>\n",
              "      <td>1.8656</td>\n",
              "      <td>-0.2904</td>\n",
              "      <td>1.44</td>\n",
              "      <td>166.41</td>\n",
              "      <td>449.44</td>\n",
              "      <td>10.89</td>\n",
              "    </tr>\n",
              "    <tr>\n",
              "      <th>7</th>\n",
              "      <td>33.0</td>\n",
              "      <td>14.0</td>\n",
              "      <td>48.0</td>\n",
              "      <td>6.0</td>\n",
              "      <td>0.05</td>\n",
              "      <td>-15.2</td>\n",
              "      <td>-21.9</td>\n",
              "      <td>-17.2</td>\n",
              "      <td>0.3</td>\n",
              "      <td>-0.058</td>\n",
              "      <td>0.8816</td>\n",
              "      <td>1.2702</td>\n",
              "      <td>0.9976</td>\n",
              "      <td>-0.0174</td>\n",
              "      <td>231.04</td>\n",
              "      <td>479.61</td>\n",
              "      <td>295.84</td>\n",
              "      <td>0.09</td>\n",
              "    </tr>\n",
              "    <tr>\n",
              "      <th>8</th>\n",
              "      <td>45.0</td>\n",
              "      <td>33.0</td>\n",
              "      <td>69.0</td>\n",
              "      <td>11.0</td>\n",
              "      <td>0.02</td>\n",
              "      <td>-3.2</td>\n",
              "      <td>-2.9</td>\n",
              "      <td>3.8</td>\n",
              "      <td>5.3</td>\n",
              "      <td>-0.088</td>\n",
              "      <td>0.2816</td>\n",
              "      <td>0.2552</td>\n",
              "      <td>-0.3344</td>\n",
              "      <td>-0.4664</td>\n",
              "      <td>10.24</td>\n",
              "      <td>8.41</td>\n",
              "      <td>14.44</td>\n",
              "      <td>28.09</td>\n",
              "    </tr>\n",
              "    <tr>\n",
              "      <th>9</th>\n",
              "      <td>53.0</td>\n",
              "      <td>41.0</td>\n",
              "      <td>68.0</td>\n",
              "      <td>2.0</td>\n",
              "      <td>0.15</td>\n",
              "      <td>4.8</td>\n",
              "      <td>5.1</td>\n",
              "      <td>2.8</td>\n",
              "      <td>-3.7</td>\n",
              "      <td>0.042</td>\n",
              "      <td>0.2016</td>\n",
              "      <td>0.2142</td>\n",
              "      <td>0.1176</td>\n",
              "      <td>-0.1554</td>\n",
              "      <td>23.04</td>\n",
              "      <td>26.01</td>\n",
              "      <td>7.84</td>\n",
              "      <td>13.69</td>\n",
              "    </tr>\n",
              "  </tbody>\n",
              "</table>\n",
              "</div>"
            ],
            "text/plain": [
              "     x1    x2    x3    x4  ...  x1-x1bar^2  x2-x2bar^2  x3-x3bar^2  x4-x4bar^2\n",
              "0  60.0  49.0  75.0   4.0  ...      139.24      171.61       96.04        2.89\n",
              "1  47.0  45.0  75.0   1.0  ...        1.44       82.81       96.04       22.09\n",
              "2  65.0  61.0  81.0   6.0  ...      282.24      630.01      249.64        0.09\n",
              "3  57.0  47.0  68.0   4.0  ...       77.44      123.21        7.84        2.89\n",
              "4  42.0  29.0  64.0   9.0  ...       38.44       47.61        1.44       10.89\n",
              "5  33.0  17.0  60.0   5.0  ...      231.04      357.21       27.04        0.49\n",
              "6  47.0  23.0  44.0   9.0  ...        1.44      166.41      449.44       10.89\n",
              "7  33.0  14.0  48.0   6.0  ...      231.04      479.61      295.84        0.09\n",
              "8  45.0  33.0  69.0  11.0  ...       10.24        8.41       14.44       28.09\n",
              "9  53.0  41.0  68.0   2.0  ...       23.04       26.01        7.84       13.69\n",
              "\n",
              "[10 rows x 18 columns]"
            ]
          },
          "metadata": {
            "tags": []
          },
          "execution_count": 243
        }
      ]
    },
    {
      "cell_type": "code",
      "metadata": {
        "colab": {
          "base_uri": "https://localhost:8080/"
        },
        "id": "OxXUGk36pLre",
        "outputId": "aa6c0baf-5921-4b6c-a072-d58ca0cad4c9"
      },
      "source": [
        "print(\"w0 = {}\".format(w0))\n",
        "print(\"w1 = {}\".format(w1))\n",
        "print(\"w2 = {}\".format(w2))\n",
        "print(\"w3 = {}\".format(w3))\n",
        "print(\"w4 = {}\".format(w4))"
      ],
      "execution_count": null,
      "outputs": [
        {
          "output_type": "stream",
          "text": [
            "w0 = -0.5350170731358121\n",
            "w1 = 0.005546543066821167\n",
            "w2 = 0.003869272301591094\n",
            "w3 = 0.005269749518304431\n",
            "w4 = -0.018740499457111832\n"
          ],
          "name": "stdout"
        }
      ]
    },
    {
      "cell_type": "code",
      "metadata": {
        "colab": {
          "base_uri": "https://localhost:8080/"
        },
        "id": "cM_uUeabpTOn",
        "outputId": "779dfc7c-9474-470a-d2e3-e0f0eaad91ce"
      },
      "source": [
        "predx1 = 44\n",
        "predx2 = 33\n",
        "predx3 = 63\n",
        "predx4 = 8\n",
        "predy = w0 + w1*predx1 + w2*predx2 + w3*predx3 + w4*predx4\n",
        "predy"
      ],
      "execution_count": null,
      "outputs": [
        {
          "output_type": "execute_result",
          "data": {
            "text/plain": [
              "0.018787031753109806"
            ]
          },
          "metadata": {
            "tags": []
          },
          "execution_count": 244
        }
      ]
    },
    {
      "cell_type": "code",
      "metadata": {
        "id": "2WZSnA0Hg9XK"
      },
      "source": [
        "x1 = np.array([28,39,29,33,15])\n",
        "# x2 = np.array([49,45,61,47,29,17,23,14,33,41])\n",
        "# x3 = np.array([75,75,81,68,64,60,44,48,69,68])\n",
        "# x4 = np.array([4,1,6,4,9,5,9,6,11,2])\n",
        "# x5 = np.array([])\n",
        "# x6 = np.array([])\n",
        "# x7 = np.array([])\n",
        "y = np.array([1,1,0,1,0])\n",
        "\n",
        "x1bar = np.mean(x1)\n",
        "# x2bar = np.mean(x2)\n",
        "# x3bar = np.mean(x3)\n",
        "# x4bar = np.mean(x4)\n",
        "# x5bar = np.sum(x5)/len(x5)\n",
        "# x6bar = np.sum(x6)/len(x6)\n",
        "# x7bar = np.sum(x7)/len(x7)\n",
        "ybar = np.mean(y)\n",
        "\n",
        "x1_x1bar = x1-x1bar\n",
        "# x2_x2bar = x2-x2bar\n",
        "# x3_x3bar = x3-x3bar\n",
        "# x4_x4bar = x4-x4bar\n",
        "# x5_x5bar = x5-x5bar\n",
        "# x6_x6bar = x6-x6bar\n",
        "# x7_x7bar = x7-x7bar\n",
        "y_ybar = y-ybar\n",
        "\n",
        "x1_x1bar_y_ybar = x1_x1bar*y_ybar\n",
        "# x2_x2bar_y_ybar = x2_x2bar*y_ybar\n",
        "# x3_x3bar_y_ybar = x3_x3bar*y_ybar\n",
        "# x4_x4bar_y_ybar = x4_x4bar*y_ybar\n",
        "# x5_x5bar_y_ybar = x5_x5bar*y_ybar\n",
        "# x6_x6bar_y_ybar = x6_x6bar*y_ybar\n",
        "# x7_x7bar_y_ybar = x7_x7bar*y_ybar\n",
        "\n",
        "x1_x1bar2 = x1_x1bar**2\n",
        "# x2_x2bar2 = x2_x2bar**2\n",
        "# x3_x3bar2 = x3_x3bar**2\n",
        "# x4_x4bar2 = x4_x4bar**2\n",
        "# x5_x5bar2 = x5_x5bar**2\n",
        "# x6_x6bar2 = x6_x6bar**2\n",
        "# x7_x7bar2 = x7_x7bar**2\n",
        "\n",
        "w1 = np.sum(x1_x1bar_y_ybar) / np.sum(x1_x1bar2)\n",
        "# w2 = np.sum(x2_x2bar_y_ybar) / np.sum(x2_x2bar2)\n",
        "# w3 = np.sum(x3_x3bar_y_ybar) / np.sum(x3_x3bar2)\n",
        "# w4 = np.sum(x4_x4bar_y_ybar) / np.sum(x4_x4bar2)\n",
        "# w5 = np.sum(x5_x5bar_y_ybar) / np.sum(x5_x5bar2)\n",
        "# w6 = np.sum(x6_x6bar_y_ybar) / np.sum(x6_x6bar2)\n",
        "# w7 = np.sum(x7_x7bar_y_ybar) / np.sum(x7_x7bar2)\n",
        "\n",
        "w0 = ybar - w1*x1bar #- w2*x2bar - w3*x3bar - w4*x4bar # -w5*x5bar # -w6*x6bar # - w7*x7bar"
      ],
      "execution_count": null,
      "outputs": []
    },
    {
      "cell_type": "code",
      "metadata": {
        "id": "ynEefVJth__r"
      },
      "source": [
        "predy = w0 + w1*40"
      ],
      "execution_count": null,
      "outputs": []
    },
    {
      "cell_type": "code",
      "metadata": {
        "colab": {
          "base_uri": "https://localhost:8080/"
        },
        "id": "__EDq4GprQ1T",
        "outputId": "1b7d9372-d707-4e01-9d00-5e0aa9997594"
      },
      "source": [
        "# Logistic ==> Linear + sigmoid\n",
        "predy_logistic = 1. / (1. + np.exp(-predy))\n",
        "predy_logistic"
      ],
      "execution_count": null,
      "outputs": [
        {
          "output_type": "execute_result",
          "data": {
            "text/plain": [
              "0.7478081816843715"
            ]
          },
          "metadata": {
            "tags": []
          },
          "execution_count": 24
        }
      ]
    },
    {
      "cell_type": "markdown",
      "metadata": {
        "id": "64_IjicFriQG"
      },
      "source": [
        "# BackPropagation"
      ]
    },
    {
      "cell_type": "code",
      "metadata": {
        "id": "jLpBKDrvriz_"
      },
      "source": [
        "def sigmoid(z):\n",
        "  return 1. / (1. + np.exp(-z))"
      ],
      "execution_count": null,
      "outputs": []
    },
    {
      "cell_type": "code",
      "metadata": {
        "id": "t9nWxV4Z3Qyo"
      },
      "source": [
        "def bipolar(z):\n",
        "  return (1. - np.exp(-z)) / (1. + np.exp(-z))"
      ],
      "execution_count": null,
      "outputs": []
    },
    {
      "cell_type": "code",
      "metadata": {
        "id": "EnL1yGhy0wub"
      },
      "source": [
        "def f_dash(z):\n",
        "  return z * (1 - z)"
      ],
      "execution_count": null,
      "outputs": []
    },
    {
      "cell_type": "code",
      "metadata": {
        "id": "m5ixpvBN4s9a"
      },
      "source": [
        "def f_dash_bipolar(z):\n",
        "  return 0.5 * (1+z) * (1-z)"
      ],
      "execution_count": null,
      "outputs": []
    },
    {
      "cell_type": "code",
      "metadata": {
        "colab": {
          "base_uri": "https://localhost:8080/"
        },
        "id": "9DFaEbwksSDe",
        "outputId": "3bafbe92-4c05-4eed-f3de-5ef4f7dd6f23"
      },
      "source": [
        "inp=2\n",
        "hidden=2\n",
        "output=1\n",
        "x_in = np.array(list(map(float, input('Enter {} input signals: '.format(inp)).split(','))))\n",
        "w_hidden = []\n",
        "for i in range(inp):\n",
        "  w_hidden.append(np.array(list(map(float, input('Enter {} weights for the {}th input signals: '.format(hidden, i+1)).split(',')))))\n",
        "w_hidden = np.array(w_hidden)\n",
        "w_output = []\n",
        "for i in range(hidden):\n",
        "  w_output.append(np.array(list(map(float, input('Enter {} weights for the {}th hidden signals: '.format(output, i+1)).split(',')))))\n",
        "w_output = np.array(w_output)\n",
        "b_hidden = int(input(\"Enter Hidden Layer Bias: \"))\n",
        "b_output = int(input(\"Enter Output Layer Bias: \"))\n",
        "weights_bias_hidden = np.array(list(map(float,input(\"Enter hidden layer bias weights: \").split(','))))\n",
        "weights_bias_output = np.array(list(map(float,input(\"Enter output layer bias weights: \").split(','))))\n",
        "target = np.array(list(map(float, input(\"Enter {} target signal: \".format(output)).split(','))))\n",
        "alpha = float(input(\"Enter learning rate: \"))\n",
        "print(x_in)\n",
        "print(w_hidden)\n",
        "print(w_output)\n",
        "print(b_hidden)\n",
        "print(b_output)\n",
        "print(weights_bias_hidden)\n",
        "print(weights_bias_output)"
      ],
      "execution_count": null,
      "outputs": [
        {
          "output_type": "stream",
          "text": [
            "Enter 2 input signals: 0,1\n",
            "Enter 2 weights for the 1th input signals: 0.6,-0.3\n",
            "Enter 2 weights for the 2th input signals: -0.1,0.4\n",
            "Enter 1 weights for the 1th hidden signals: 0.4\n",
            "Enter 1 weights for the 2th hidden signals: 0.1\n",
            "Enter Hidden Layer Bias: 1\n",
            "Enter Output Layer Bias: 1\n",
            "Enter hidden layer bias weights: 0.3,0.5\n",
            "Enter output layer bias weights: -0.2\n",
            "Enter 1 target signal: 1\n",
            "Enter learning rate: 0.25\n",
            "[0. 1.]\n",
            "[[ 0.6 -0.3]\n",
            " [-0.1  0.4]]\n",
            "[[0.4]\n",
            " [0.1]]\n",
            "1\n",
            "1\n",
            "[0.3 0.5]\n",
            "[-0.2]\n"
          ],
          "name": "stdout"
        }
      ]
    },
    {
      "cell_type": "code",
      "metadata": {
        "colab": {
          "base_uri": "https://localhost:8080/"
        },
        "id": "YSzgID3kpDpS",
        "outputId": "45910b4d-c15b-437f-af9b-c93b7ec781a3"
      },
      "source": [
        "# z1_in z2_in\n",
        "z_in = np.zeros((1,hidden))\n",
        "for i in range(hidden):\n",
        "  for j in range(inp):\n",
        "    z_in[0][i] += x_in[j] * w_hidden[j][i]\n",
        "  z_in[0][i] += b_hidden * weights_bias_hidden[i]\n",
        "print(z_in)"
      ],
      "execution_count": null,
      "outputs": [
        {
          "output_type": "stream",
          "text": [
            "[[0.2 0.9]]\n"
          ],
          "name": "stdout"
        }
      ]
    },
    {
      "cell_type": "code",
      "metadata": {
        "colab": {
          "base_uri": "https://localhost:8080/"
        },
        "id": "DZznCllwpGgn",
        "outputId": "57c6a887-1050-4d19-c354-ca7e9826aaa4"
      },
      "source": [
        "# z1  z2\n",
        "z_out = sigmoid(z_in)\n",
        "z_out"
      ],
      "execution_count": null,
      "outputs": [
        {
          "output_type": "execute_result",
          "data": {
            "text/plain": [
              "array([[0.549834 , 0.7109495]])"
            ]
          },
          "metadata": {
            "tags": []
          },
          "execution_count": 136
        }
      ]
    },
    {
      "cell_type": "code",
      "metadata": {
        "colab": {
          "base_uri": "https://localhost:8080/"
        },
        "id": "SjE0Fl_MuQXA",
        "outputId": "4fa6fe2d-88af-4759-caf5-2415b206552e"
      },
      "source": [
        "# y_in\n",
        "y_in = np.zeros((1,output))\n",
        "for i in range(output):\n",
        "  for j in range(hidden):\n",
        "    y_in[0][i] += z_out[0][j] * w_output[j][i]\n",
        "  y_in[0][i] += b_output * weights_bias_output[i]\n",
        "print(y_in)"
      ],
      "execution_count": null,
      "outputs": [
        {
          "output_type": "stream",
          "text": [
            "[[0.09102855]]\n"
          ],
          "name": "stdout"
        }
      ]
    },
    {
      "cell_type": "code",
      "metadata": {
        "colab": {
          "base_uri": "https://localhost:8080/"
        },
        "id": "vOpVbpIxvmsP",
        "outputId": "7d273931-78b7-4546-c08b-6e92cb46f5c6"
      },
      "source": [
        "# y\n",
        "y_out = sigmoid(y_in)\n",
        "y_out"
      ],
      "execution_count": null,
      "outputs": [
        {
          "output_type": "execute_result",
          "data": {
            "text/plain": [
              "array([[0.52274144]])"
            ]
          },
          "metadata": {
            "tags": []
          },
          "execution_count": 141
        }
      ]
    },
    {
      "cell_type": "code",
      "metadata": {
        "colab": {
          "base_uri": "https://localhost:8080/"
        },
        "id": "d9cQNrcrwZxW",
        "outputId": "38d8b25e-9ed8-4fdc-e0d5-e1c553f0de48"
      },
      "source": [
        "# delta 1\n",
        "delta_k = (target - y_out) * f_dash(y_out)\n",
        "delta_k"
      ],
      "execution_count": null,
      "outputs": [
        {
          "output_type": "execute_result",
          "data": {
            "text/plain": [
              "array([[0.11906782]])"
            ]
          },
          "metadata": {
            "tags": []
          },
          "execution_count": 142
        }
      ]
    },
    {
      "cell_type": "code",
      "metadata": {
        "colab": {
          "base_uri": "https://localhost:8080/"
        },
        "id": "SOJym7CMxZ-I",
        "outputId": "2474ad85-b632-4d64-e443-a50b50ebc9d3"
      },
      "source": [
        "# delta w1, delta w2\n",
        "delta_w_output = alpha * delta_k * z_out\n",
        "delta_w_output"
      ],
      "execution_count": null,
      "outputs": [
        {
          "output_type": "execute_result",
          "data": {
            "text/plain": [
              "array([[0.01636688, 0.0211628 ]])"
            ]
          },
          "metadata": {
            "tags": []
          },
          "execution_count": 143
        }
      ]
    },
    {
      "cell_type": "code",
      "metadata": {
        "colab": {
          "base_uri": "https://localhost:8080/"
        },
        "id": "VwjSpYrByIoA",
        "outputId": "3afa3498-1629-4c69-f9f6-c81b3dabe4ca"
      },
      "source": [
        "# delta w0\n",
        "delta_w_bias_output = alpha * delta_k\n",
        "delta_w_bias_output"
      ],
      "execution_count": null,
      "outputs": [
        {
          "output_type": "execute_result",
          "data": {
            "text/plain": [
              "array([[0.02976695]])"
            ]
          },
          "metadata": {
            "tags": []
          },
          "execution_count": 144
        }
      ]
    },
    {
      "cell_type": "code",
      "metadata": {
        "colab": {
          "base_uri": "https://localhost:8080/"
        },
        "id": "EJ7VqU3_ygb5",
        "outputId": "4c07bc70-ebba-4bba-e4c1-242c34c7f5c1"
      },
      "source": [
        "# new w1\n",
        "# new w2\n",
        "new_w_output = w_output + delta_w_output.T\n",
        "new_w_output"
      ],
      "execution_count": null,
      "outputs": [
        {
          "output_type": "execute_result",
          "data": {
            "text/plain": [
              "array([[0.41636688],\n",
              "       [0.1211628 ]])"
            ]
          },
          "metadata": {
            "tags": []
          },
          "execution_count": 146
        }
      ]
    },
    {
      "cell_type": "code",
      "metadata": {
        "colab": {
          "base_uri": "https://localhost:8080/"
        },
        "id": "i0UK_6y_y5oU",
        "outputId": "c4ffd4a3-1875-4934-8756-57c30a23b8d0"
      },
      "source": [
        "# new w0\n",
        "new_bias_output = b_output*weights_bias_output + delta_w_bias_output.T\n",
        "new_bias_output"
      ],
      "execution_count": null,
      "outputs": [
        {
          "output_type": "execute_result",
          "data": {
            "text/plain": [
              "array([[-0.17023305]])"
            ]
          },
          "metadata": {
            "tags": []
          },
          "execution_count": 147
        }
      ]
    },
    {
      "cell_type": "code",
      "metadata": {
        "colab": {
          "base_uri": "https://localhost:8080/"
        },
        "id": "ZVs8feJ71Ghy",
        "outputId": "2a63307c-a618-477b-ef95-42045ba36434"
      },
      "source": [
        "delta_k*w_output, f_dash_bipolar(z_out)"
      ],
      "execution_count": null,
      "outputs": [
        {
          "output_type": "execute_result",
          "data": {
            "text/plain": [
              "(array([[0.04762713],\n",
              "        [0.01190678]]), array([[0.34884129, 0.2472754 ]]))"
            ]
          },
          "metadata": {
            "tags": []
          },
          "execution_count": 148
        }
      ]
    },
    {
      "cell_type": "code",
      "metadata": {
        "colab": {
          "base_uri": "https://localhost:8080/"
        },
        "id": "oEXL8jgTz9Q_",
        "outputId": "f1ad1a5e-eadc-429d-c03f-2ad29bf80086"
      },
      "source": [
        "# Error propagation from hidden layer\n",
        "# delta 1\n",
        "# delta 2\n",
        "new_delta_hidden = delta_k * w_output * f_dash(z_out).T\n",
        "new_delta_hidden"
      ],
      "execution_count": null,
      "outputs": [
        {
          "output_type": "execute_result",
          "data": {
            "text/plain": [
              "array([[0.0117885 ],\n",
              "       [0.00244685]])"
            ]
          },
          "metadata": {
            "tags": []
          },
          "execution_count": 149
        }
      ]
    },
    {
      "cell_type": "code",
      "metadata": {
        "colab": {
          "base_uri": "https://localhost:8080/"
        },
        "id": "k8Fr8vXd1l6o",
        "outputId": "0f7c1af3-f9f3-44a4-fe82-bcd7713c19d1"
      },
      "source": [
        "# delta v11   #   delta v21\n",
        "# delta v12   #   delta v22\n",
        "delta_w_hidden = alpha * x_in * new_delta_hidden\n",
        "delta_w_hidden"
      ],
      "execution_count": null,
      "outputs": [
        {
          "output_type": "execute_result",
          "data": {
            "text/plain": [
              "array([[0.        , 0.00294713],\n",
              "       [0.        , 0.00061171]])"
            ]
          },
          "metadata": {
            "tags": []
          },
          "execution_count": 150
        }
      ]
    },
    {
      "cell_type": "code",
      "metadata": {
        "colab": {
          "base_uri": "https://localhost:8080/"
        },
        "id": "_upjaWM52LuF",
        "outputId": "870940cb-7aca-4904-acc5-20d5c389a381"
      },
      "source": [
        "# delta v01\n",
        "# delta v02\n",
        "delta_w_bias_hidden = alpha * new_delta_hidden\n",
        "delta_w_bias_hidden"
      ],
      "execution_count": null,
      "outputs": [
        {
          "output_type": "execute_result",
          "data": {
            "text/plain": [
              "array([[0.00294713],\n",
              "       [0.00061171]])"
            ]
          },
          "metadata": {
            "tags": []
          },
          "execution_count": 151
        }
      ]
    },
    {
      "cell_type": "code",
      "metadata": {
        "colab": {
          "base_uri": "https://localhost:8080/"
        },
        "id": "55r64Dwf2a4T",
        "outputId": "0053c798-aece-4e35-c66e-48bedaf81dc8"
      },
      "source": [
        "# new v11   new v12\n",
        "# new v21   new v22\n",
        "new_w_hidden = w_hidden + delta_w_hidden.T\n",
        "new_w_hidden"
      ],
      "execution_count": null,
      "outputs": [
        {
          "output_type": "execute_result",
          "data": {
            "text/plain": [
              "array([[ 0.6       , -0.3       ],\n",
              "       [-0.09705287,  0.40061171]])"
            ]
          },
          "metadata": {
            "tags": []
          },
          "execution_count": 152
        }
      ]
    },
    {
      "cell_type": "code",
      "metadata": {
        "colab": {
          "base_uri": "https://localhost:8080/"
        },
        "id": "fFlLRrKd2lJ2",
        "outputId": "6084165b-50ea-4cbf-e6af-198be5cdae92"
      },
      "source": [
        "# new v01   new v02\n",
        "new_bias_hidden = b_hidden*weights_bias_hidden + delta_w_bias_hidden.T\n",
        "new_bias_hidden"
      ],
      "execution_count": null,
      "outputs": [
        {
          "output_type": "execute_result",
          "data": {
            "text/plain": [
              "array([[0.30294713, 0.50061171]])"
            ]
          },
          "metadata": {
            "tags": []
          },
          "execution_count": 153
        }
      ]
    },
    {
      "cell_type": "markdown",
      "metadata": {
        "id": "Nk9WsCfO7xyy"
      },
      "source": [
        "# K-Means"
      ]
    },
    {
      "cell_type": "code",
      "metadata": {
        "colab": {
          "base_uri": "https://localhost:8080/"
        },
        "id": "EMaGxLstDg5M",
        "outputId": "7b95e49d-3230-467a-9fa8-6fb0323d85f1"
      },
      "source": [
        "def EuclideanDistance(row, point):\n",
        "  distance = 0.0\n",
        "  for i in range(len(point)):\n",
        "    distance += (row[i] - point[i]) ** 2\n",
        "  return distance**0.5\n",
        "\n",
        "def find_mean(list_of_tuples):\n",
        "  sums = [0 for i in range(len(list_of_tuples[0]))]\n",
        "  for i in list_of_tuples:\n",
        "    for j in range(len(i)):\n",
        "      sums[j] += i[j]\n",
        "  return list(np.array(sums)/len(list_of_tuples))\n",
        "\n",
        "\n",
        "cluster_indices = [1,3]\n",
        "centroids = []\n",
        "for index in cluster_indices:\n",
        "  point = (data.iloc[index]['x1'], data.iloc[index]['x2'])\n",
        "  centroids.append(point)\n",
        "flag = True\n",
        "newCentroids = centroids.copy()\n",
        "while flag or tuple(sorted(centroids)) != tuple(sorted(newCentroids)):\n",
        "  centroids = newCentroids.copy()\n",
        "  flag = False\n",
        "  newCentroids = []\n",
        "  newData = data.copy()\n",
        "  for j,centroid in enumerate(centroids):\n",
        "    distanceList = []\n",
        "    for rowIndex in range(len(data)):\n",
        "      rowItems = []\n",
        "      distanceList.append(EuclideanDistance(list(data.iloc[rowIndex]), centroid))\n",
        "    newData[j] = distanceList\n",
        "  print(newData)\n",
        "  clusters = defaultdict(list)\n",
        "  for rowIndex in range(len(data)):\n",
        "    minIndex = 0\n",
        "    minVal = newData.iloc[rowIndex][0]\n",
        "    for i in range(1, len(centroids)):\n",
        "      val = newData.iloc[rowIndex][i]\n",
        "      if minVal>val:\n",
        "        minVal = val\n",
        "        minIndex = i\n",
        "    clusters[minIndex].append((newData.iloc[rowIndex]['x1'], newData.iloc[rowIndex]['x2']))\n",
        "  for cluster in clusters:\n",
        "    newCentroids.append(tuple(find_mean(clusters[cluster])))\n",
        "  print(newCentroids)\n",
        "  print(clusters)\n",
        "  # newCentroids = centroids"
      ],
      "execution_count": null,
      "outputs": [
        {
          "output_type": "stream",
          "text": [
            "    x1   x2         0         1\n",
            "0  2.0  7.0  1.414214  5.830952\n",
            "1  3.0  6.0  0.000000  4.472136\n",
            "2  5.0  5.0  2.236068  2.236068\n",
            "3  7.0  4.0  4.472136  0.000000\n",
            "4  8.0  3.0  5.830952  1.414214\n",
            "5  9.0  5.0  6.082763  2.236068\n",
            "[(3.3333333333333335, 6.0), (8.0, 4.0)]\n",
            "defaultdict(<class 'list'>, {0: [(2.0, 7.0), (3.0, 6.0), (5.0, 5.0)], 1: [(7.0, 4.0), (8.0, 3.0), (9.0, 5.0)]})\n",
            "    x1   x2         0         1\n",
            "0  2.0  7.0  1.666667  6.708204\n",
            "1  3.0  6.0  0.333333  5.385165\n",
            "2  5.0  5.0  1.943651  3.162278\n",
            "3  7.0  4.0  4.176655  1.000000\n",
            "4  8.0  3.0  5.547772  1.000000\n",
            "5  9.0  5.0  5.754226  1.414214\n",
            "[(3.3333333333333335, 6.0), (8.0, 4.0)]\n",
            "defaultdict(<class 'list'>, {0: [(2.0, 7.0), (3.0, 6.0), (5.0, 5.0)], 1: [(7.0, 4.0), (8.0, 3.0), (9.0, 5.0)]})\n"
          ],
          "name": "stdout"
        }
      ]
    },
    {
      "cell_type": "code",
      "metadata": {
        "colab": {
          "base_uri": "https://localhost:8080/",
          "height": 225
        },
        "id": "Btuxb96jFxkj",
        "outputId": "f2350024-c44e-4bea-afe7-ad8342bbcf05"
      },
      "source": [
        "data"
      ],
      "execution_count": null,
      "outputs": [
        {
          "output_type": "execute_result",
          "data": {
            "text/html": [
              "<div>\n",
              "<style scoped>\n",
              "    .dataframe tbody tr th:only-of-type {\n",
              "        vertical-align: middle;\n",
              "    }\n",
              "\n",
              "    .dataframe tbody tr th {\n",
              "        vertical-align: top;\n",
              "    }\n",
              "\n",
              "    .dataframe thead th {\n",
              "        text-align: right;\n",
              "    }\n",
              "</style>\n",
              "<table border=\"1\" class=\"dataframe\">\n",
              "  <thead>\n",
              "    <tr style=\"text-align: right;\">\n",
              "      <th></th>\n",
              "      <th>x1</th>\n",
              "      <th>x2</th>\n",
              "    </tr>\n",
              "  </thead>\n",
              "  <tbody>\n",
              "    <tr>\n",
              "      <th>0</th>\n",
              "      <td>2.0</td>\n",
              "      <td>7.0</td>\n",
              "    </tr>\n",
              "    <tr>\n",
              "      <th>1</th>\n",
              "      <td>3.0</td>\n",
              "      <td>6.0</td>\n",
              "    </tr>\n",
              "    <tr>\n",
              "      <th>2</th>\n",
              "      <td>5.0</td>\n",
              "      <td>5.0</td>\n",
              "    </tr>\n",
              "    <tr>\n",
              "      <th>3</th>\n",
              "      <td>7.0</td>\n",
              "      <td>4.0</td>\n",
              "    </tr>\n",
              "    <tr>\n",
              "      <th>4</th>\n",
              "      <td>8.0</td>\n",
              "      <td>3.0</td>\n",
              "    </tr>\n",
              "    <tr>\n",
              "      <th>5</th>\n",
              "      <td>9.0</td>\n",
              "      <td>5.0</td>\n",
              "    </tr>\n",
              "  </tbody>\n",
              "</table>\n",
              "</div>"
            ],
            "text/plain": [
              "    x1   x2\n",
              "0  2.0  7.0\n",
              "1  3.0  6.0\n",
              "2  5.0  5.0\n",
              "3  7.0  4.0\n",
              "4  8.0  3.0\n",
              "5  9.0  5.0"
            ]
          },
          "metadata": {
            "tags": []
          },
          "execution_count": 27
        }
      ]
    },
    {
      "cell_type": "markdown",
      "metadata": {
        "id": "9cwG6ktLW-jN"
      },
      "source": [
        "# SVM Calculation"
      ]
    },
    {
      "cell_type": "code",
      "metadata": {
        "colab": {
          "base_uri": "https://localhost:8080/"
        },
        "id": "_2lUr4UyVVkm",
        "outputId": "0108609b-ff65-41ad-9a41-a118ccb2d077"
      },
      "source": [
        "mat = np.array([ [36,35,41] , [35,34,40] , [41,40,54] ])\n",
        "inv = np.linalg.inv(mat)\n",
        "const = np.array([-1,-1,1])\n",
        "mat, inv, const"
      ],
      "execution_count": null,
      "outputs": [
        {
          "output_type": "execute_result",
          "data": {
            "text/plain": [
              "(array([[36, 35, 41],\n",
              "        [35, 34, 40],\n",
              "        [41, 40, 54]]), array([[-29.5  ,  31.25 ,  -0.75 ],\n",
              "        [ 31.25 , -32.875,   0.625],\n",
              "        [ -0.75 ,   0.625,   0.125]]), array([-1, -1,  1]))"
            ]
          },
          "metadata": {
            "tags": []
          },
          "execution_count": 17
        }
      ]
    },
    {
      "cell_type": "code",
      "metadata": {
        "colab": {
          "base_uri": "https://localhost:8080/"
        },
        "id": "9kxLl3iqWJau",
        "outputId": "2d639094-ed96-4eed-f0dc-f700d2c1abec"
      },
      "source": [
        "ans = np.dot(const, inv)\n",
        "ans"
      ],
      "execution_count": null,
      "outputs": [
        {
          "output_type": "execute_result",
          "data": {
            "text/plain": [
              "array([-2.5 ,  2.25,  0.25])"
            ]
          },
          "metadata": {
            "tags": []
          },
          "execution_count": 18
        }
      ]
    },
    {
      "cell_type": "code",
      "metadata": {
        "id": "hK-yVr-MXn-0"
      },
      "source": [
        "def EuclideanDistance(row, point):\n",
        "  distance = 0.0\n",
        "  for i in range(len(point)):\n",
        "    distance += (row[i] - point[i]) ** 2\n",
        "  return distance**0.5"
      ],
      "execution_count": null,
      "outputs": []
    },
    {
      "cell_type": "code",
      "metadata": {
        "colab": {
          "base_uri": "https://localhost:8080/"
        },
        "id": "SmTrSzljWh8R",
        "outputId": "709c91de-eef5-4352-c7cf-3095394c1faa"
      },
      "source": [
        "x = [(1,2), (2,3), (3,4)]\n",
        "y = [(2,2), (2,1), (3,5)]\n",
        "distances = []\n",
        "for point in x:\n",
        "  distance = []\n",
        "  for row in y:\n",
        "    distance.append(EuclideanDistance(row,point))\n",
        "  distances.append(distance)\n",
        "distances"
      ],
      "execution_count": null,
      "outputs": [
        {
          "output_type": "execute_result",
          "data": {
            "text/plain": [
              "[[1.0, 1.4142135623730951, 3.605551275463989],\n",
              " [1.0, 2.0, 2.23606797749979],\n",
              " [2.23606797749979, 3.1622776601683795, 1.0]]"
            ]
          },
          "metadata": {
            "tags": []
          },
          "execution_count": 21
        }
      ]
    },
    {
      "cell_type": "code",
      "metadata": {
        "id": "6hB7_MHgXyEM"
      },
      "source": [
        "import numpy as np\n",
        "s1 = np.array([6.9, 3.1, 4.9, 1.5, 1])\n",
        "s2 = np.array([6.3,2.9, 5.6, 1.8, 1])"
      ],
      "execution_count": null,
      "outputs": []
    },
    {
      "cell_type": "code",
      "metadata": {
        "colab": {
          "base_uri": "https://localhost:8080/"
        },
        "id": "Nkdrf922eXwH",
        "outputId": "69de65e6-82d9-46af-efcd-e048edbdda54"
      },
      "source": [
        "z11 = np.dot(s1,s1.T) + 1\n",
        "z21 = np.dot(s2,s1.T) + 1\n",
        "z12 = np.dot(s1,s2.T) + 1\n",
        "z22 = np.dot(s2,s2.T) + 1\n",
        "z11, z21, z12, z22"
      ],
      "execution_count": null,
      "outputs": [
        {
          "output_type": "execute_result",
          "data": {
            "text/plain": [
              "(85.48, 84.60000000000001, 84.60000000000001, 84.69999999999999)"
            ]
          },
          "metadata": {
            "tags": []
          },
          "execution_count": 6
        }
      ]
    },
    {
      "cell_type": "code",
      "metadata": {
        "colab": {
          "base_uri": "https://localhost:8080/"
        },
        "id": "wzbTY4cWebC1",
        "outputId": "203ec131-b969-4b2a-d5e1-2d19b711ac8d"
      },
      "source": [
        "952.24*s1-953.26*s2"
      ],
      "execution_count": null,
      "outputs": [
        {
          "output_type": "execute_result",
          "data": {
            "text/plain": [
              "array([ 564.918,  187.49 , -672.28 , -287.508,   -1.02 ])"
            ]
          },
          "metadata": {
            "tags": []
          },
          "execution_count": 14
        }
      ]
    },
    {
      "cell_type": "code",
      "metadata": {
        "colab": {
          "base_uri": "https://localhost:8080/"
        },
        "id": "Dzm3USE9ebrO",
        "outputId": "46e896a8-159b-41c7-9bd6-bf209b598df1"
      },
      "source": [
        "np.tanh(85.48)"
      ],
      "execution_count": null,
      "outputs": [
        {
          "output_type": "execute_result",
          "data": {
            "text/plain": [
              "1.0"
            ]
          },
          "metadata": {
            "tags": []
          },
          "execution_count": 7
        }
      ]
    },
    {
      "cell_type": "code",
      "metadata": {
        "id": "Gk6P1NY8gVkO"
      },
      "source": [
        "def sigmoid(z):\n",
        "  return 1. / (1. + np.exp(-z))\n"
      ],
      "execution_count": null,
      "outputs": []
    },
    {
      "cell_type": "code",
      "metadata": {
        "colab": {
          "base_uri": "https://localhost:8080/"
        },
        "id": "-2skdYKmge_V",
        "outputId": "01e87a1a-1b36-4073-d16a-5ad7a064a5dd"
      },
      "source": [
        "sigmoid(z11/100), sigmoid(z12/100), sigmoid(z21/100), sigmoid(z22/100)"
      ],
      "execution_count": null,
      "outputs": [
        {
          "output_type": "execute_result",
          "data": {
            "text/plain": [
              "(0.7015730816450415,\n",
              " 0.6997273785920499,\n",
              " 0.6997273785920499,\n",
              " 0.6999374455926537)"
            ]
          },
          "metadata": {
            "tags": []
          },
          "execution_count": 11
        }
      ]
    },
    {
      "cell_type": "code",
      "metadata": {
        "id": "na4cGZbQgijR"
      },
      "source": [
        ""
      ],
      "execution_count": null,
      "outputs": []
    }
  ]
}